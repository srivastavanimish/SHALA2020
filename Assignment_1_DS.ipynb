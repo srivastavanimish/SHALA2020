{
  "nbformat": 4,
  "nbformat_minor": 0,
  "metadata": {
    "colab": {
      "name": "Assignment -1 - DS.ipynb",
      "provenance": [],
      "collapsed_sections": [],
      "include_colab_link": true
    },
    "kernelspec": {
      "name": "python3",
      "display_name": "Python 3"
    }
  },
  "cells": [
    {
      "cell_type": "markdown",
      "metadata": {
        "id": "view-in-github",
        "colab_type": "text"
      },
      "source": [
        "<a href=\"https://colab.research.google.com/github/srivastavanimish/SHALA2020/blob/master/Assignment_1_DS.ipynb\" target=\"_parent\"><img src=\"https://colab.research.google.com/assets/colab-badge.svg\" alt=\"Open In Colab\"/></a>"
      ]
    },
    {
      "cell_type": "markdown",
      "metadata": {
        "id": "hmr2U-GChnlR",
        "colab_type": "text"
      },
      "source": [
        "\n",
        "# **Assignment - 1 : Getting Started**\n",
        "\n",
        "---\n",
        "\n",
        "This assignment will get you familiarized with python libraries required for ***data science*** and ***machine learning***. You will have to complete the code snippets and run them. "
      ]
    },
    {
      "cell_type": "markdown",
      "metadata": {
        "id": "211pD45xEO0u",
        "colab_type": "text"
      },
      "source": [
        "## **Note :**   Use only the methods and attributes of the ```numpy``` library. **Do not** hard-code them. Avoid loops as much as possible."
      ]
    },
    {
      "cell_type": "markdown",
      "metadata": {
        "id": "O7v9C4mun3SQ",
        "colab_type": "text"
      },
      "source": [
        "---\n",
        "## Part - 1\n",
        " In this part, you will work with the library ```numpy```. \n",
        "\n",
        "\n"
      ]
    },
    {
      "cell_type": "markdown",
      "metadata": {
        "id": "846yDaXQwiMD",
        "colab_type": "text"
      },
      "source": [
        "Import ```numpy``` with an alias name ```np```. Initialize two arrays $a$, $b$ of size $3 \\times 5$ with random values and print them. "
      ]
    },
    {
      "cell_type": "code",
      "metadata": {
        "id": "_MyeCO3_o3oq",
        "colab_type": "code",
        "outputId": "08eb5181-41e9-44fb-b457-2a845c3e188c",
        "colab": {
          "base_uri": "https://localhost:8080/",
          "height": 119
        }
      },
      "source": [
        "import numpy as np\n",
        "\n",
        "a = np.random.randn(3,5)\n",
        "b = np.random.randn(3,5)\n",
        "\n",
        "print(a)\n",
        "print(b)"
      ],
      "execution_count": 2,
      "outputs": [
        {
          "output_type": "stream",
          "text": [
            "[[-2.23324628 -0.51593419  2.74912036  1.26128223  0.03778927]\n",
            " [ 0.80124582 -0.0680744   1.26722925  0.69494901 -0.81281213]\n",
            " [ 0.88701405  1.22756385 -0.06654897 -0.46704891  1.65279316]]\n",
            "[[-0.66634305  0.18020556  0.52990758  0.00248801  0.35912911]\n",
            " [ 0.38114416  0.63696607  1.99141979  0.6425016   1.90111789]\n",
            " [-1.01291095 -0.28721155  1.06430888  0.09661563 -0.73968906]]\n"
          ],
          "name": "stdout"
        }
      ]
    },
    {
      "cell_type": "markdown",
      "metadata": {
        "id": "p7jtpYT4wiO6",
        "colab_type": "text"
      },
      "source": [
        "Initialize and print two arrays $c$ and $d$ having the following properties:\n",
        "*   $c$ is a row vector with all non-negative integer values less than 100\n",
        "* $d$ is a square matrix of size 3 having all entries as 0.0"
      ]
    },
    {
      "cell_type": "code",
      "metadata": {
        "id": "a2lJdRf8x9f2",
        "colab_type": "code",
        "outputId": "d7c29af4-27e9-4840-f7a4-a7986cfa83c6",
        "colab": {
          "base_uri": "https://localhost:8080/",
          "height": 153
        }
      },
      "source": [
        "c = np.arange(0,100,1)\n",
        "d = np.zeros((3,3))\n",
        "print(c)\n",
        "print(d)"
      ],
      "execution_count": 3,
      "outputs": [
        {
          "output_type": "stream",
          "text": [
            "[ 0  1  2  3  4  5  6  7  8  9 10 11 12 13 14 15 16 17 18 19 20 21 22 23\n",
            " 24 25 26 27 28 29 30 31 32 33 34 35 36 37 38 39 40 41 42 43 44 45 46 47\n",
            " 48 49 50 51 52 53 54 55 56 57 58 59 60 61 62 63 64 65 66 67 68 69 70 71\n",
            " 72 73 74 75 76 77 78 79 80 81 82 83 84 85 86 87 88 89 90 91 92 93 94 95\n",
            " 96 97 98 99]\n",
            "[[0. 0. 0.]\n",
            " [0. 0. 0.]\n",
            " [0. 0. 0.]]\n"
          ],
          "name": "stdout"
        }
      ]
    },
    {
      "cell_type": "markdown",
      "metadata": {
        "id": "qqgtSsa88Zmh",
        "colab_type": "text"
      },
      "source": [
        "We have $e$ as following : ```e = [[1,2,3],[4,5,6],[7,8,9]]```. Change $e$ as a numpy array and print it."
      ]
    },
    {
      "cell_type": "code",
      "metadata": {
        "id": "Krhm4bVE7RET",
        "colab_type": "code",
        "outputId": "9ec687ed-fa9e-486d-9bde-621c11d36ba1",
        "colab": {
          "base_uri": "https://localhost:8080/",
          "height": 68
        }
      },
      "source": [
        "e = np.array([[1,2,3],[4,5,6],[7,8,9]])\n",
        "print(e)"
      ],
      "execution_count": 4,
      "outputs": [
        {
          "output_type": "stream",
          "text": [
            "[[1 2 3]\n",
            " [4 5 6]\n",
            " [7 8 9]]\n"
          ],
          "name": "stdout"
        }
      ]
    },
    {
      "cell_type": "markdown",
      "metadata": {
        "id": "1qTikI0foam9",
        "colab_type": "text"
      },
      "source": [
        "$f$ and $g$ are two square matrices of size 5 such that all the entries of $f$ are 1 and $g$ is an identity matrix. Initialize them and print them"
      ]
    },
    {
      "cell_type": "code",
      "metadata": {
        "id": "DvaLckI49aBV",
        "colab_type": "code",
        "outputId": "7a8a7324-ba1a-4e57-dd89-fb3f94b2f174",
        "colab": {
          "base_uri": "https://localhost:8080/",
          "height": 187
        }
      },
      "source": [
        "f = np.ones((5,5))\n",
        "g = np.eye(5)\n",
        "\n",
        "print(f)\n",
        "print(g)"
      ],
      "execution_count": 5,
      "outputs": [
        {
          "output_type": "stream",
          "text": [
            "[[1. 1. 1. 1. 1.]\n",
            " [1. 1. 1. 1. 1.]\n",
            " [1. 1. 1. 1. 1.]\n",
            " [1. 1. 1. 1. 1.]\n",
            " [1. 1. 1. 1. 1.]]\n",
            "[[1. 0. 0. 0. 0.]\n",
            " [0. 1. 0. 0. 0.]\n",
            " [0. 0. 1. 0. 0.]\n",
            " [0. 0. 0. 1. 0.]\n",
            " [0. 0. 0. 0. 1.]]\n"
          ],
          "name": "stdout"
        }
      ]
    },
    {
      "cell_type": "markdown",
      "metadata": {
        "id": "gcBZAZibAKcg",
        "colab_type": "text"
      },
      "source": [
        "Reshape $c$ into a $10 \\times 10$ matrix and name it $h$. Now flatten $h$, call it $c^\\prime$ and print **YES** when the shapes of $c$ and $c^\\prime$ are same. Otherwise print **NO**."
      ]
    },
    {
      "cell_type": "code",
      "metadata": {
        "id": "I71vtO9bA9Pi",
        "colab_type": "code",
        "outputId": "ff859dba-da2c-43c5-ebb4-6b054b3ca23c",
        "colab": {
          "base_uri": "https://localhost:8080/",
          "height": 34
        }
      },
      "source": [
        "h = c.reshape((10,10))\n",
        "\n",
        "c1 = h.flatten()\n",
        "\n",
        "if c.shape == c1.shape:\n",
        "  print(\"YES\")\n",
        "else:\n",
        "  print(\"NO\")"
      ],
      "execution_count": 6,
      "outputs": [
        {
          "output_type": "stream",
          "text": [
            "YES\n"
          ],
          "name": "stdout"
        }
      ]
    },
    {
      "cell_type": "markdown",
      "metadata": {
        "id": "8FrecDPiA-Bv",
        "colab_type": "text"
      },
      "source": [
        "Let $A$ denote a randomly initialized three dimensional matrix of shape (2,10,5). Transpose $A$, call it $A^\\prime$, such that its shape is (5,2,10) and print it."
      ]
    },
    {
      "cell_type": "code",
      "metadata": {
        "id": "VbOKqSm6Bkaq",
        "colab_type": "code",
        "outputId": "77d69034-ecd2-4647-a07a-8001cf085637",
        "colab": {
          "base_uri": "https://localhost:8080/",
          "height": 595
        }
      },
      "source": [
        "A = np.random.randn(2,10,5)\n",
        "A1 = A.transpose((2,0,1))\n",
        "\n",
        "print(A1)"
      ],
      "execution_count": 7,
      "outputs": [
        {
          "output_type": "stream",
          "text": [
            "[[[-5.08480451e-01  4.48900905e-01 -1.02779472e+00 -6.43296710e-01\n",
            "   -5.51473607e-02  1.95292968e+00  8.98740023e-02 -9.07466544e-01\n",
            "   -2.83553938e-01  9.74448222e-01]\n",
            "  [ 1.67545113e-01 -3.01904915e-02 -1.10913743e+00 -1.02252673e+00\n",
            "   -1.78144604e+00  5.56672562e-01  7.17213824e-02  4.61112517e-01\n",
            "    3.97662860e-03  4.82164648e-01]]\n",
            "\n",
            " [[ 1.16253311e-01  5.71527715e-01  2.21999413e+00  5.22693179e-01\n",
            "    1.01430449e+00  9.17236568e-02 -5.39249816e-01  3.28265832e-01\n",
            "    2.85969598e+00 -8.52272988e-01]\n",
            "  [-6.93884106e-01  4.10558212e-02 -1.75401137e+00 -1.36451050e+00\n",
            "   -3.30748524e-01 -5.49374036e-01 -6.53575786e-02 -1.76472972e-03\n",
            "    2.83796042e+00 -2.19182848e-01]]\n",
            "\n",
            " [[-2.28515659e+00  1.25631805e+00  1.01092642e+00 -1.43476939e+00\n",
            "   -7.44747831e-01  5.57908017e-01  8.19977590e-01  1.77708607e+00\n",
            "    3.59009016e-01 -6.66087002e-01]\n",
            "  [-7.80117679e-01 -1.89530064e-01 -7.16894494e-01  9.78744729e-01\n",
            "   -5.11532694e-01 -5.91850797e-02 -1.81499461e+00 -1.70846341e+00\n",
            "    1.21320279e+00 -5.32282516e-01]]\n",
            "\n",
            " [[ 1.20632112e-01 -1.47930175e+00 -8.14810405e-01 -6.22198137e-01\n",
            "    9.43564773e-01 -5.95391934e-01 -3.18529101e-01  1.68500114e+00\n",
            "   -1.29122382e+00 -6.26523288e-02]\n",
            "  [ 4.37143780e-01 -1.43020950e+00  3.07474237e-01 -2.44200861e-01\n",
            "   -8.95528172e-01  4.57726437e-01 -1.55158658e+00 -1.28470666e+00\n",
            "   -4.55423906e-01  1.44367537e+00]]\n",
            "\n",
            " [[ 6.24303187e-01  2.66653742e-01 -9.97233172e-01 -1.60258959e+00\n",
            "   -1.65506147e+00 -1.10172546e+00 -8.35992660e-01 -2.06148444e-01\n",
            "    1.58669203e+00  6.60245536e-02]\n",
            "  [ 3.17790230e-01 -9.02002724e-01  2.25190981e-01  8.14645919e-01\n",
            "   -5.02131030e-01 -2.46623026e-01  1.63727010e+00  4.15927636e-01\n",
            "    1.01979276e+00 -6.69768378e-02]]]\n"
          ],
          "name": "stdout"
        }
      ]
    },
    {
      "cell_type": "markdown",
      "metadata": {
        "id": "xR2zd-nkCani",
        "colab_type": "text"
      },
      "source": [
        "You have a matrix $X$ of size (10,5) filled with random values. Print the following :\n",
        "* Minimum value and index where it occured, for each column\n",
        "* Maximum value and the index where it occured, for each column\n",
        "* Minimum value and index where it occured, for each row\n",
        "* Maximum value and index where it occured, for each row\n",
        "* Minimum value and index where it occured, for the entire matrix\n",
        "* Maximum value and index where it occured, for the entire matrix"
      ]
    },
    {
      "cell_type": "code",
      "metadata": {
        "id": "FR2Wd4fWD_Og",
        "colab_type": "code",
        "outputId": "8e7199cd-44c7-4f00-d115-076d603c1c65",
        "colab": {
          "base_uri": "https://localhost:8080/",
          "height": 493
        }
      },
      "source": [
        "X = np.random.randn(10,5)\n",
        "\n",
        "print(X)\n",
        "print(np.min(X,axis=0),np.argmin(X,axis=0))\n",
        "print(np.max(X,axis=0),np.argmax(X,axis=0))\n",
        "print(np.min(X,axis=1),np.argmin(X,axis=1))\n",
        "print(np.max(X,axis=1),np.argmax(X,axis=1))\n",
        "print(np.min(X),np.argmin(X))\n",
        "print(np.max(X),np.argmax(X))\n"
      ],
      "execution_count": 12,
      "outputs": [
        {
          "output_type": "stream",
          "text": [
            "[[ 1.65139522e+00  7.23729507e-01  4.84129997e-02  1.76046856e+00\n",
            "  -1.66277976e-01]\n",
            " [-4.38187304e-01 -3.12832379e-01  4.23101899e-01 -7.81729567e-01\n",
            "  -2.91568090e-01]\n",
            " [-1.10537713e+00 -1.86050761e+00  9.57511060e-01 -5.43907370e-02\n",
            "   1.98073652e+00]\n",
            " [ 1.32961807e+00  1.34050204e+00  2.56444556e-01  1.49915386e-01\n",
            "   2.17439881e-01]\n",
            " [ 2.06318198e+00  1.22074298e+00  1.35880375e+00  4.67297961e-01\n",
            "   2.36797343e+00]\n",
            " [-4.51342457e-01 -2.28474911e-01  1.11407011e+00  1.10351633e+00\n",
            "  -1.31692043e+00]\n",
            " [ 1.46778945e-03 -1.38218964e+00 -1.73124497e-01  4.60322052e-01\n",
            "  -2.25074930e+00]\n",
            " [ 4.28876829e-01  4.99858270e-01  1.13259109e+00 -1.38952453e+00\n",
            "  -1.57167487e+00]\n",
            " [-8.38761932e-01  6.32760508e-01  8.49367814e-01 -1.46421907e+00\n",
            "  -7.82210269e-01]\n",
            " [ 8.70354208e-01 -1.16511192e-01 -4.93305490e-01 -1.98208377e-01\n",
            "   1.49673336e-01]]\n",
            "[-1.10537713 -1.86050761 -0.49330549 -1.46421907 -2.2507493 ] [2 2 9 8 6]\n",
            "[2.06318198 1.34050204 1.35880375 1.76046856 2.36797343] [4 3 4 0 4]\n",
            "[-0.16627798 -0.78172957 -1.86050761  0.14991539  0.46729796 -1.31692043\n",
            " -2.2507493  -1.57167487 -1.46421907 -0.49330549] [4 3 1 3 3 4 4 4 3 2]\n",
            "[1.76046856 0.4231019  1.98073652 1.34050204 2.36797343 1.11407011\n",
            " 0.46032205 1.13259109 0.84936781 0.87035421] [3 2 4 1 4 2 3 2 2 0]\n",
            "-2.2507492969254352 34\n",
            "2.367973431785635 24\n"
          ],
          "name": "stdout"
        }
      ]
    },
    {
      "cell_type": "markdown",
      "metadata": {
        "id": "YpjW2ypkEGtS",
        "colab_type": "text"
      },
      "source": [
        "Find and print the following for the matrix X: \n",
        "* Mean of each row and column\n",
        "* Standard deviation of each row and column\n",
        "* Mean of the entire matrix\n",
        "* Standard deviation of entire matrix"
      ]
    },
    {
      "cell_type": "code",
      "metadata": {
        "id": "gMdm2pw0GWjf",
        "colab_type": "code",
        "outputId": "b6dfe2b2-a13f-4411-a14b-09414618a291",
        "colab": {
          "base_uri": "https://localhost:8080/",
          "height": 119
        }
      },
      "source": [
        "print(np.mean(X,axis=1), np.mean(X,axis=0))\n",
        "print(np.std(X,axis=1), np.std(X,axis=0))\n",
        "print(np.mean(X))\n",
        "print(np.std(X))"
      ],
      "execution_count": 13,
      "outputs": [
        {
          "output_type": "stream",
          "text": [
            "[ 0.80354566 -0.28024309 -0.01640558  0.65878399  1.49560002  0.04416973\n",
            " -0.66885472 -0.17997464 -0.32061259  0.0424005 ] [ 0.35112253  0.05170776  0.54738733  0.0053448  -0.16635778]\n",
            "[0.79394007 0.39301897 1.38022494 0.55323897 0.66855806 0.94226704\n",
            " 0.99813407 1.09137914 0.9019048  0.46198296] [1.03833483 0.99850024 0.59435948 0.97455182 1.38990559]\n",
            "0.15784092781846518\n",
            "1.0619531273183629\n"
          ],
          "name": "stdout"
        }
      ]
    },
    {
      "cell_type": "markdown",
      "metadata": {
        "id": "7dw7W8HOGXKA",
        "colab_type": "text"
      },
      "source": [
        "Let $Y$ denote a square matrix of size 10 with random values. Print the following:\n",
        "* Determinant\n",
        "* Rank of the matrix\n",
        "* Diagonal Elements\n",
        "* Trace\n",
        "* Eigen values\n",
        "* Matrices obtained after Singular Value Decomposition\n",
        "* Inverse if exists, otherwise Pseudo-Inverse\n",
        "* Multiplication $Y$ with $X$\n",
        "* Element-wise multiplication of $Y$ and its inverse(or pseudo-inverse)"
      ]
    },
    {
      "cell_type": "code",
      "metadata": {
        "id": "Tswbn9hgL7yi",
        "colab_type": "code",
        "outputId": "93602d28-2d03-4e59-c2db-322e3b6cecf5",
        "colab": {
          "base_uri": "https://localhost:8080/",
          "height": 1000
        }
      },
      "source": [
        "Y = np.random.randn(10,10)\n",
        "\n",
        "print(np.linalg.det(Y))\n",
        "print(np.linalg.matrix_rank(Y))\n",
        "print(np.diag(Y))\n",
        "print(np.trace(Y))\n",
        "print(np.linalg.eigvals(Y))\n",
        "print(np.linalg.svd(Y))\n",
        "print(np.linalg.pinv(Y))\n",
        "print(np.matmul(Y,X))\n",
        "print(np.dot(Y, np.linalg.pinv(Y)))"
      ],
      "execution_count": 21,
      "outputs": [
        {
          "output_type": "stream",
          "text": [
            "2683.917496049992\n",
            "10\n",
            "[-1.10049054  0.0903579  -2.13066547  0.02368882 -1.34151561 -0.65136304\n",
            "  0.41944214 -0.231586    0.08520676  0.75700088]\n",
            "-4.079924168001099\n",
            "[-4.10148802+0.j         -3.47489525+0.j         -2.434977  +1.50337528j\n",
            " -2.434977  -1.50337528j  3.12377723+0.j          1.43647738+1.43974141j\n",
            "  1.43647738-1.43974141j  0.92924021+1.61800151j  0.92924021-1.61800151j\n",
            "  0.51120071+0.j        ]\n",
            "(array([[ 8.19153597e-02,  2.07288042e-01, -5.82816987e-01,\n",
            "         4.35671284e-01, -1.62994864e-01, -5.75824399e-02,\n",
            "         1.17110941e-02,  2.54154674e-02,  2.02951438e-01,\n",
            "        -5.90746129e-01],\n",
            "       [-1.78289434e-01, -3.18915343e-01, -5.73941087e-01,\n",
            "        -5.13858050e-01,  9.10120727e-02,  6.91137827e-02,\n",
            "        -1.59586842e-01,  4.09979589e-01, -2.52168012e-01,\n",
            "        -5.33626459e-02],\n",
            "       [-5.13613878e-01,  3.66446020e-01,  1.66088052e-01,\n",
            "        -2.05519470e-01, -4.05340002e-01, -9.58688075e-02,\n",
            "        -4.98449611e-01,  1.30272475e-01,  3.02996078e-01,\n",
            "        -3.70635070e-02],\n",
            "       [-4.91342283e-01, -1.38605911e-01,  2.84410449e-01,\n",
            "         8.96621151e-02, -2.18867804e-01, -8.02399276e-02,\n",
            "         5.81063013e-01,  2.63389372e-01, -2.76888108e-01,\n",
            "        -3.35299554e-01],\n",
            "       [-3.11135542e-01,  7.04611510e-02, -2.71129889e-01,\n",
            "        -3.18528163e-01,  6.21442844e-02, -3.63431083e-01,\n",
            "         2.33133667e-01, -7.29898867e-01, -1.44950835e-02,\n",
            "         6.77594748e-04],\n",
            "       [-2.55057655e-01, -7.83270377e-01,  2.59389955e-03,\n",
            "         2.61662027e-01, -6.36757706e-02,  4.52191875e-02,\n",
            "        -1.56743020e-01, -1.68729688e-01,  4.38952562e-01,\n",
            "         3.38016772e-02],\n",
            "       [ 1.79783311e-01,  6.59467218e-02, -1.28795526e-01,\n",
            "        -3.18232458e-01, -2.30281662e-01,  9.00784974e-02,\n",
            "         5.41076329e-01,  2.12574122e-01,  6.27088148e-01,\n",
            "         2.30508417e-01],\n",
            "       [-1.88601160e-01,  8.50537870e-02, -3.49632861e-01,\n",
            "         3.85855283e-01, -4.18474679e-01,  1.22503326e-01,\n",
            "         6.94274995e-02, -1.79992888e-02, -2.90312012e-01,\n",
            "         6.37585038e-01],\n",
            "       [-4.08097981e-01,  2.23871762e-01, -9.95122502e-02,\n",
            "         2.65994755e-01,  7.06900899e-01, -1.30114837e-01,\n",
            "         8.83712250e-02,  2.65176922e-01,  2.36235116e-01,\n",
            "         2.28270717e-01],\n",
            "       [ 2.44928898e-01, -1.47144309e-01,  1.37544527e-02,\n",
            "         7.08962356e-02, -1.31033380e-01, -8.95600511e-01,\n",
            "        -6.32117397e-02,  2.60525079e-01, -2.30491109e-02,\n",
            "         1.46535326e-01]]), array([6.13976776, 4.79915767, 4.01574315, 3.52114947, 3.32266237,\n",
            "       2.88733292, 2.00960042, 1.34894045, 0.8824762 , 0.28068115]), array([[ 0.13606981, -0.18494374,  0.01604739,  0.01634978,  0.21873373,\n",
            "        -0.17968375,  0.7169254 , -0.50046668, -0.07908127,  0.3097136 ],\n",
            "       [-0.42542968, -0.0384427 , -0.42648854,  0.60713427, -0.07365625,\n",
            "         0.27082312, -0.02330297,  0.01817611, -0.09130996,  0.42313821],\n",
            "       [-0.00947551, -0.36792563, -0.20930349,  0.29781128,  0.65448063,\n",
            "        -0.35015929, -0.06721823,  0.22803707,  0.12712674, -0.32924855],\n",
            "       [-0.40465199,  0.67316913,  0.30122039,  0.02650434,  0.43460002,\n",
            "        -0.04648348,  0.08313939, -0.0108811 ,  0.29138595,  0.09321835],\n",
            "       [ 0.50087238,  0.00385528,  0.41681143,  0.27875322,  0.18458803,\n",
            "         0.25364055,  0.08466146,  0.50432723, -0.12189637,  0.35056863],\n",
            "       [-0.16696809, -0.13222718, -0.12818769, -0.23982293,  0.14661341,\n",
            "         0.7034242 ,  0.43719842,  0.19507475,  0.11567074, -0.34901728],\n",
            "       [-0.3774619 , -0.26804383,  0.52262557,  0.05026967,  0.17127957,\n",
            "         0.14688588, -0.19151284, -0.23161781, -0.59056266, -0.14145706],\n",
            "       [ 0.11965053,  0.13600888,  0.24440477,  0.63077986, -0.34430756,\n",
            "         0.0032026 ,  0.22466869, -0.17452447,  0.1563206 , -0.53445254],\n",
            "       [ 0.18781792, -0.25329493,  0.14170812,  0.0522079 ,  0.17074547,\n",
            "         0.36855818, -0.40119358, -0.47881664,  0.54922563,  0.14456706],\n",
            "       [-0.40723554, -0.45142983,  0.37442237, -0.05807146, -0.31129022,\n",
            "        -0.23029623,  0.16620766,  0.30217931,  0.42573941,  0.19151135]]))\n",
            "[[ 0.81385952  0.18454348  0.14724092  0.30384181 -0.05811131  0.08034657\n",
            "  -0.28866097 -1.12688965 -0.21913137 -0.14019951]\n",
            " [ 1.02787589  0.18003877  0.01420919  0.57821748 -0.11214953 -0.11486271\n",
            "  -0.66083836 -0.84849403 -0.34274402 -0.14740627]\n",
            " [-0.71625234 -0.05671988 -0.21354979 -0.312923   -0.06930051  0.12543765\n",
            "   0.52863234  0.80394608  0.51490415  0.26492576]\n",
            " [ 0.12401394  0.09848371  0.10376016  0.1819166  -0.31549412 -0.17055105\n",
            "   0.0724182  -0.21381784  0.18492786  0.1355491 ]\n",
            " [ 0.63549177 -0.25770961 -0.02560983  0.32639629  0.09194487  0.11156248\n",
            "  -0.20555121 -0.78718509 -0.23630722 -0.26964003]\n",
            " [ 0.59827638 -0.00438779  0.09047322  0.14688515 -0.03417075  0.10947197\n",
            "   0.13107878 -0.60573469 -0.02953817 -0.37965825]\n",
            " [-0.42323583  0.15752188 -0.18472736 -0.16124755 -0.22989477 -0.20732637\n",
            "  -0.14166369  0.50033361  0.02103515  0.03847359]\n",
            " [-0.81971354  0.04552767 -0.17838924 -0.29503708  0.07225237 -0.15132933\n",
            "  -0.23155074  0.77767238  0.19922933  0.04348638]\n",
            " [-0.7539574  -0.196373    0.29285694 -0.79094225 -0.21020317  0.39504105\n",
            "   0.58361906  0.80585769  0.48674059  0.23156294]\n",
            " [-0.30922763 -0.23133182 -0.03601601 -0.49073848  0.32566711  0.08546024\n",
            "   0.11953179  0.36762164  0.18783265  0.09200025]]\n",
            "[[ 4.020948   -0.69297238  3.96203394 -1.45673303  6.81850051  3.67734974\n",
            "  -1.20512066  7.24067617  0.43859595 10.71510819]\n",
            " [-4.26479908 -3.86963466  0.49420218 -2.71150476  0.12123315 -0.13319473\n",
            "  -0.34205959  8.67575704 -0.2595128   2.23656011]\n",
            " [ 1.26542945 -5.62262096  2.45402071 -0.5513177   0.39519631 -0.6605602\n",
            "  -1.61209845 -4.44095384 -2.35216934  5.31324993]\n",
            " [ 3.88188747 -2.91131813 -2.23001548  1.18121632 -2.48543316 -1.73419176\n",
            "   0.19685081 -6.91660886  3.97884749 -0.41132433]\n",
            " [-3.01213319 -5.25871804 -1.31760902 -0.96889911  1.66570125 -3.43319129\n",
            "  -0.69649089  3.230331   -4.29943247  4.89320024]\n",
            " [ 4.50521883 -1.62674415 -1.2479408  -0.5899988  -3.99616361  2.64237959\n",
            "   2.46268629 -1.93554359  4.05743659 -8.96522272]\n",
            " [-3.76854959  1.02623484 -0.56995204 -1.63753442  2.50121964  0.54307468\n",
            "  -1.86452272 -0.16471278  1.74619749  2.60399626]\n",
            " [ 4.32724296 -3.70005249  3.73640631 -0.60939547  5.27164877  2.12600253\n",
            "  -0.87239302  3.37808639  3.06403553  6.79203007]\n",
            " [ 3.3808016  -2.81879092 -1.34379719  1.47274387 -1.43616672 -4.85381981\n",
            "   3.1620748   2.15144313 -4.33863014  7.48951274]\n",
            " [ 4.12019593  3.50148669 -3.95586136 -1.44697253  0.0877411   4.46803534\n",
            "  -2.77776558 -3.68223576 -4.83651577 -3.17088508]]\n",
            "[[ 1.00000000e+00 -4.83799291e-16  1.32911782e-16 -1.89109029e-17\n",
            "   5.83263079e-16  7.36111824e-16  7.25306678e-16 -5.64361962e-16\n",
            "   6.50118728e-16  4.02962287e-16]\n",
            " [ 4.93188095e-16  1.00000000e+00  3.32289503e-16  1.90556205e-16\n",
            "   3.33837950e-16  4.77883170e-16  5.92242745e-16 -5.34931837e-16\n",
            "  -2.01318319e-16 -2.11215933e-16]\n",
            " [-1.03546774e-15  2.47762476e-16  1.00000000e+00 -3.63667236e-16\n",
            "  -6.83156084e-17 -2.13830878e-16 -1.02570824e-15  8.66015808e-16\n",
            "   1.98440917e-16 -1.70854122e-16]\n",
            " [-9.88317030e-17 -3.63796384e-16  2.56571061e-16  1.00000000e+00\n",
            "  -2.39970448e-16  6.50060846e-17 -5.43231489e-17 -8.15855414e-17\n",
            "   4.68087158e-16 -4.50174322e-17]\n",
            " [-2.29102255e-17 -1.68392642e-16  2.72465497e-16 -2.69580449e-16\n",
            "   1.00000000e+00  2.88836247e-16  3.96459457e-16  1.98579182e-16\n",
            "   3.00664260e-16  3.39377635e-16]\n",
            " [-9.16106620e-16  2.78885826e-18  2.56751127e-16 -3.25828577e-16\n",
            "  -5.37489783e-16  1.00000000e+00  3.13120856e-17  4.17892183e-16\n",
            "   9.30377884e-16  3.09118030e-16]\n",
            " [-1.70961773e-18  1.24567865e-16 -4.08103160e-16  1.59277549e-16\n",
            "   4.92187204e-17 -2.01261157e-16  1.00000000e+00  1.29010443e-16\n",
            "   2.98531835e-16  1.75802940e-16]\n",
            " [-4.75885079e-16  1.72175588e-16  7.90993979e-17 -1.96773573e-17\n",
            "  -2.11260659e-16  2.30410245e-16  3.14083138e-16  1.00000000e+00\n",
            "   8.76874232e-16  1.43908137e-16]\n",
            " [ 1.19521897e-15 -7.92134160e-17  2.86867740e-16  7.26501481e-16\n",
            "  -8.98674513e-17  3.58754311e-16 -1.82573508e-16 -1.42226305e-15\n",
            "   1.00000000e+00 -7.84499821e-16]\n",
            " [-3.97977367e-16  1.17712223e-18  2.39437195e-16 -5.30834518e-16\n",
            "  -1.53634179e-16  2.10518986e-16  3.96470460e-16  1.29976153e-16\n",
            "   4.05464439e-16  1.00000000e+00]]\n"
          ],
          "name": "stdout"
        }
      ]
    },
    {
      "cell_type": "markdown",
      "metadata": {
        "id": "Qne3RnfOL6-4",
        "colab_type": "text"
      },
      "source": [
        "## End of Part - 1\n",
        " --- --- ---"
      ]
    },
    {
      "cell_type": "markdown",
      "metadata": {
        "id": "LA-m4UYkMPTe",
        "colab_type": "text"
      },
      "source": [
        "## Part - 2\n",
        "---\n",
        "In this part, you will be working with the library ```pandas```. Import this library with an alias name ```pd```."
      ]
    },
    {
      "cell_type": "code",
      "metadata": {
        "id": "i8z7TpnZSIms",
        "colab_type": "code",
        "colab": {}
      },
      "source": [
        "import pandas as pd"
      ],
      "execution_count": 0,
      "outputs": []
    },
    {
      "cell_type": "markdown",
      "metadata": {
        "id": "2v-HkHnyuQ3X",
        "colab_type": "text"
      },
      "source": [
        "Download dataset from: http://biostat.mc.vanderbilt.edu/wiki/pub/Main/DataSets/titanic3.csv\n",
        "Read the data and display the first 5 rows"
      ]
    },
    {
      "cell_type": "code",
      "metadata": {
        "id": "LinX5ywNTUIm",
        "colab_type": "code",
        "outputId": "4eed9414-c098-438b-bf6c-0f3cb102d2bd",
        "colab": {
          "base_uri": "https://localhost:8080/",
          "height": 204
        }
      },
      "source": [
        "#Download dataset from: http://biostat.mc.vanderbilt.edu/wiki/pub/Main/DataSets/titanic3.csv\n",
        "\n",
        "file_url = \"http://biostat.mc.vanderbilt.edu/wiki/pub/Main/DataSets/titanic3.csv\"\n",
        "data = pd.read_csv(file_url)\n",
        "data.head()"
      ],
      "execution_count": 23,
      "outputs": [
        {
          "output_type": "execute_result",
          "data": {
            "text/html": [
              "<div>\n",
              "<style scoped>\n",
              "    .dataframe tbody tr th:only-of-type {\n",
              "        vertical-align: middle;\n",
              "    }\n",
              "\n",
              "    .dataframe tbody tr th {\n",
              "        vertical-align: top;\n",
              "    }\n",
              "\n",
              "    .dataframe thead th {\n",
              "        text-align: right;\n",
              "    }\n",
              "</style>\n",
              "<table border=\"1\" class=\"dataframe\">\n",
              "  <thead>\n",
              "    <tr style=\"text-align: right;\">\n",
              "      <th></th>\n",
              "      <th>pclass</th>\n",
              "      <th>survived</th>\n",
              "      <th>name</th>\n",
              "      <th>sex</th>\n",
              "      <th>age</th>\n",
              "      <th>sibsp</th>\n",
              "      <th>parch</th>\n",
              "      <th>ticket</th>\n",
              "      <th>fare</th>\n",
              "      <th>cabin</th>\n",
              "      <th>embarked</th>\n",
              "      <th>boat</th>\n",
              "      <th>body</th>\n",
              "      <th>home.dest</th>\n",
              "    </tr>\n",
              "  </thead>\n",
              "  <tbody>\n",
              "    <tr>\n",
              "      <th>0</th>\n",
              "      <td>1</td>\n",
              "      <td>1</td>\n",
              "      <td>Allen, Miss. Elisabeth Walton</td>\n",
              "      <td>female</td>\n",
              "      <td>29.00</td>\n",
              "      <td>0</td>\n",
              "      <td>0</td>\n",
              "      <td>24160</td>\n",
              "      <td>211.3375</td>\n",
              "      <td>B5</td>\n",
              "      <td>S</td>\n",
              "      <td>2</td>\n",
              "      <td>NaN</td>\n",
              "      <td>St Louis, MO</td>\n",
              "    </tr>\n",
              "    <tr>\n",
              "      <th>1</th>\n",
              "      <td>1</td>\n",
              "      <td>1</td>\n",
              "      <td>Allison, Master. Hudson Trevor</td>\n",
              "      <td>male</td>\n",
              "      <td>0.92</td>\n",
              "      <td>1</td>\n",
              "      <td>2</td>\n",
              "      <td>113781</td>\n",
              "      <td>151.5500</td>\n",
              "      <td>C22 C26</td>\n",
              "      <td>S</td>\n",
              "      <td>11</td>\n",
              "      <td>NaN</td>\n",
              "      <td>Montreal, PQ / Chesterville, ON</td>\n",
              "    </tr>\n",
              "    <tr>\n",
              "      <th>2</th>\n",
              "      <td>1</td>\n",
              "      <td>0</td>\n",
              "      <td>Allison, Miss. Helen Loraine</td>\n",
              "      <td>female</td>\n",
              "      <td>2.00</td>\n",
              "      <td>1</td>\n",
              "      <td>2</td>\n",
              "      <td>113781</td>\n",
              "      <td>151.5500</td>\n",
              "      <td>C22 C26</td>\n",
              "      <td>S</td>\n",
              "      <td>NaN</td>\n",
              "      <td>NaN</td>\n",
              "      <td>Montreal, PQ / Chesterville, ON</td>\n",
              "    </tr>\n",
              "    <tr>\n",
              "      <th>3</th>\n",
              "      <td>1</td>\n",
              "      <td>0</td>\n",
              "      <td>Allison, Mr. Hudson Joshua Creighton</td>\n",
              "      <td>male</td>\n",
              "      <td>30.00</td>\n",
              "      <td>1</td>\n",
              "      <td>2</td>\n",
              "      <td>113781</td>\n",
              "      <td>151.5500</td>\n",
              "      <td>C22 C26</td>\n",
              "      <td>S</td>\n",
              "      <td>NaN</td>\n",
              "      <td>135.0</td>\n",
              "      <td>Montreal, PQ / Chesterville, ON</td>\n",
              "    </tr>\n",
              "    <tr>\n",
              "      <th>4</th>\n",
              "      <td>1</td>\n",
              "      <td>0</td>\n",
              "      <td>Allison, Mrs. Hudson J C (Bessie Waldo Daniels)</td>\n",
              "      <td>female</td>\n",
              "      <td>25.00</td>\n",
              "      <td>1</td>\n",
              "      <td>2</td>\n",
              "      <td>113781</td>\n",
              "      <td>151.5500</td>\n",
              "      <td>C22 C26</td>\n",
              "      <td>S</td>\n",
              "      <td>NaN</td>\n",
              "      <td>NaN</td>\n",
              "      <td>Montreal, PQ / Chesterville, ON</td>\n",
              "    </tr>\n",
              "  </tbody>\n",
              "</table>\n",
              "</div>"
            ],
            "text/plain": [
              "   pclass  survived  ...   body                        home.dest\n",
              "0       1         1  ...    NaN                     St Louis, MO\n",
              "1       1         1  ...    NaN  Montreal, PQ / Chesterville, ON\n",
              "2       1         0  ...    NaN  Montreal, PQ / Chesterville, ON\n",
              "3       1         0  ...  135.0  Montreal, PQ / Chesterville, ON\n",
              "4       1         0  ...    NaN  Montreal, PQ / Chesterville, ON\n",
              "\n",
              "[5 rows x 14 columns]"
            ]
          },
          "metadata": {
            "tags": []
          },
          "execution_count": 23
        }
      ]
    },
    {
      "cell_type": "code",
      "metadata": {
        "id": "FQPLVDK_wc4P",
        "colab_type": "code",
        "colab": {
          "base_uri": "https://localhost:8080/",
          "height": 272
        },
        "outputId": "88338cc8-3721-4765-c013-3e87601b81ce"
      },
      "source": [
        "data.count()"
      ],
      "execution_count": 24,
      "outputs": [
        {
          "output_type": "execute_result",
          "data": {
            "text/plain": [
              "pclass       1309\n",
              "survived     1309\n",
              "name         1309\n",
              "sex          1309\n",
              "age          1046\n",
              "sibsp        1309\n",
              "parch        1309\n",
              "ticket       1309\n",
              "fare         1308\n",
              "cabin         295\n",
              "embarked     1307\n",
              "boat          486\n",
              "body          121\n",
              "home.dest     745\n",
              "dtype: int64"
            ]
          },
          "metadata": {
            "tags": []
          },
          "execution_count": 24
        }
      ]
    },
    {
      "cell_type": "markdown",
      "metadata": {
        "id": "vTk1-mF5WYFN",
        "colab_type": "text"
      },
      "source": [
        "### Preprocessing of the Dataset"
      ]
    },
    {
      "cell_type": "markdown",
      "metadata": {
        "id": "kx9UrI9WWt17",
        "colab_type": "text"
      },
      "source": [
        "\n",
        "\n",
        "---\n",
        "\n",
        "\n",
        "**1. Convert the categorical values of columns 'sex', 'embarked', 'pclass' into dummy values and add them into titanic_data_new DataFrame**\n",
        "\n",
        "\n",
        "\n",
        "\n",
        "---\n",
        "\n"
      ]
    },
    {
      "cell_type": "code",
      "metadata": {
        "id": "AwDh9njbZ0QU",
        "colab_type": "code",
        "outputId": "6be694a9-a028-45ec-bae7-e671c0443af5",
        "colab": {
          "base_uri": "https://localhost:8080/",
          "height": 419
        }
      },
      "source": [
        "sex = pd.get_dummies(data.sex)\n",
        "embarked = pd.get_dummies(data.embarked)\n",
        "pclass = pd.get_dummies(data.pclass)\n",
        "\n",
        "titanic_data_new = pd.concat([sex,embarked, pclass],axis=1)\n",
        "titanic_data_new"
      ],
      "execution_count": 27,
      "outputs": [
        {
          "output_type": "execute_result",
          "data": {
            "text/html": [
              "<div>\n",
              "<style scoped>\n",
              "    .dataframe tbody tr th:only-of-type {\n",
              "        vertical-align: middle;\n",
              "    }\n",
              "\n",
              "    .dataframe tbody tr th {\n",
              "        vertical-align: top;\n",
              "    }\n",
              "\n",
              "    .dataframe thead th {\n",
              "        text-align: right;\n",
              "    }\n",
              "</style>\n",
              "<table border=\"1\" class=\"dataframe\">\n",
              "  <thead>\n",
              "    <tr style=\"text-align: right;\">\n",
              "      <th></th>\n",
              "      <th>female</th>\n",
              "      <th>male</th>\n",
              "      <th>C</th>\n",
              "      <th>Q</th>\n",
              "      <th>S</th>\n",
              "      <th>1</th>\n",
              "      <th>2</th>\n",
              "      <th>3</th>\n",
              "    </tr>\n",
              "  </thead>\n",
              "  <tbody>\n",
              "    <tr>\n",
              "      <th>0</th>\n",
              "      <td>1</td>\n",
              "      <td>0</td>\n",
              "      <td>0</td>\n",
              "      <td>0</td>\n",
              "      <td>1</td>\n",
              "      <td>1</td>\n",
              "      <td>0</td>\n",
              "      <td>0</td>\n",
              "    </tr>\n",
              "    <tr>\n",
              "      <th>1</th>\n",
              "      <td>0</td>\n",
              "      <td>1</td>\n",
              "      <td>0</td>\n",
              "      <td>0</td>\n",
              "      <td>1</td>\n",
              "      <td>1</td>\n",
              "      <td>0</td>\n",
              "      <td>0</td>\n",
              "    </tr>\n",
              "    <tr>\n",
              "      <th>2</th>\n",
              "      <td>1</td>\n",
              "      <td>0</td>\n",
              "      <td>0</td>\n",
              "      <td>0</td>\n",
              "      <td>1</td>\n",
              "      <td>1</td>\n",
              "      <td>0</td>\n",
              "      <td>0</td>\n",
              "    </tr>\n",
              "    <tr>\n",
              "      <th>3</th>\n",
              "      <td>0</td>\n",
              "      <td>1</td>\n",
              "      <td>0</td>\n",
              "      <td>0</td>\n",
              "      <td>1</td>\n",
              "      <td>1</td>\n",
              "      <td>0</td>\n",
              "      <td>0</td>\n",
              "    </tr>\n",
              "    <tr>\n",
              "      <th>4</th>\n",
              "      <td>1</td>\n",
              "      <td>0</td>\n",
              "      <td>0</td>\n",
              "      <td>0</td>\n",
              "      <td>1</td>\n",
              "      <td>1</td>\n",
              "      <td>0</td>\n",
              "      <td>0</td>\n",
              "    </tr>\n",
              "    <tr>\n",
              "      <th>...</th>\n",
              "      <td>...</td>\n",
              "      <td>...</td>\n",
              "      <td>...</td>\n",
              "      <td>...</td>\n",
              "      <td>...</td>\n",
              "      <td>...</td>\n",
              "      <td>...</td>\n",
              "      <td>...</td>\n",
              "    </tr>\n",
              "    <tr>\n",
              "      <th>1304</th>\n",
              "      <td>1</td>\n",
              "      <td>0</td>\n",
              "      <td>1</td>\n",
              "      <td>0</td>\n",
              "      <td>0</td>\n",
              "      <td>0</td>\n",
              "      <td>0</td>\n",
              "      <td>1</td>\n",
              "    </tr>\n",
              "    <tr>\n",
              "      <th>1305</th>\n",
              "      <td>1</td>\n",
              "      <td>0</td>\n",
              "      <td>1</td>\n",
              "      <td>0</td>\n",
              "      <td>0</td>\n",
              "      <td>0</td>\n",
              "      <td>0</td>\n",
              "      <td>1</td>\n",
              "    </tr>\n",
              "    <tr>\n",
              "      <th>1306</th>\n",
              "      <td>0</td>\n",
              "      <td>1</td>\n",
              "      <td>1</td>\n",
              "      <td>0</td>\n",
              "      <td>0</td>\n",
              "      <td>0</td>\n",
              "      <td>0</td>\n",
              "      <td>1</td>\n",
              "    </tr>\n",
              "    <tr>\n",
              "      <th>1307</th>\n",
              "      <td>0</td>\n",
              "      <td>1</td>\n",
              "      <td>1</td>\n",
              "      <td>0</td>\n",
              "      <td>0</td>\n",
              "      <td>0</td>\n",
              "      <td>0</td>\n",
              "      <td>1</td>\n",
              "    </tr>\n",
              "    <tr>\n",
              "      <th>1308</th>\n",
              "      <td>0</td>\n",
              "      <td>1</td>\n",
              "      <td>0</td>\n",
              "      <td>0</td>\n",
              "      <td>1</td>\n",
              "      <td>0</td>\n",
              "      <td>0</td>\n",
              "      <td>1</td>\n",
              "    </tr>\n",
              "  </tbody>\n",
              "</table>\n",
              "<p>1309 rows × 8 columns</p>\n",
              "</div>"
            ],
            "text/plain": [
              "      female  male  C  Q  S  1  2  3\n",
              "0          1     0  0  0  1  1  0  0\n",
              "1          0     1  0  0  1  1  0  0\n",
              "2          1     0  0  0  1  1  0  0\n",
              "3          0     1  0  0  1  1  0  0\n",
              "4          1     0  0  0  1  1  0  0\n",
              "...      ...   ... .. .. .. .. .. ..\n",
              "1304       1     0  1  0  0  0  0  1\n",
              "1305       1     0  1  0  0  0  0  1\n",
              "1306       0     1  1  0  0  0  0  1\n",
              "1307       0     1  1  0  0  0  0  1\n",
              "1308       0     1  0  0  1  0  0  1\n",
              "\n",
              "[1309 rows x 8 columns]"
            ]
          },
          "metadata": {
            "tags": []
          },
          "execution_count": 27
        }
      ]
    },
    {
      "cell_type": "markdown",
      "metadata": {
        "id": "Z9bxOfzDbY-n",
        "colab_type": "text"
      },
      "source": [
        "\n",
        "\n",
        "---\n",
        "\n",
        "\n",
        "**2. Fill the missing data in Age and Fare columns with the mean value of the respected column then add these columns to titanic_data_new**\n",
        "\n",
        "\n",
        "---\n",
        "\n"
      ]
    },
    {
      "cell_type": "code",
      "metadata": {
        "id": "DNx7Pr0ehhAs",
        "colab_type": "code",
        "outputId": "0e6cd6cd-3e5f-4ef3-8da7-9a41f44d30f3",
        "colab": {
          "base_uri": "https://localhost:8080/",
          "height": 419
        }
      },
      "source": [
        "age = data['age'].fillna(data.age.mean())\n",
        "fare = data['fare'].fillna(data.fare.mean())\n",
        "\n",
        "titanic_data_new = pd.concat([titanic_data_new,age,fare],axis=1)\n",
        "titanic_data_new"
      ],
      "execution_count": 29,
      "outputs": [
        {
          "output_type": "execute_result",
          "data": {
            "text/html": [
              "<div>\n",
              "<style scoped>\n",
              "    .dataframe tbody tr th:only-of-type {\n",
              "        vertical-align: middle;\n",
              "    }\n",
              "\n",
              "    .dataframe tbody tr th {\n",
              "        vertical-align: top;\n",
              "    }\n",
              "\n",
              "    .dataframe thead th {\n",
              "        text-align: right;\n",
              "    }\n",
              "</style>\n",
              "<table border=\"1\" class=\"dataframe\">\n",
              "  <thead>\n",
              "    <tr style=\"text-align: right;\">\n",
              "      <th></th>\n",
              "      <th>female</th>\n",
              "      <th>male</th>\n",
              "      <th>C</th>\n",
              "      <th>Q</th>\n",
              "      <th>S</th>\n",
              "      <th>1</th>\n",
              "      <th>2</th>\n",
              "      <th>3</th>\n",
              "      <th>age</th>\n",
              "      <th>fare</th>\n",
              "      <th>age</th>\n",
              "      <th>fare</th>\n",
              "    </tr>\n",
              "  </thead>\n",
              "  <tbody>\n",
              "    <tr>\n",
              "      <th>0</th>\n",
              "      <td>1</td>\n",
              "      <td>0</td>\n",
              "      <td>0</td>\n",
              "      <td>0</td>\n",
              "      <td>1</td>\n",
              "      <td>1</td>\n",
              "      <td>0</td>\n",
              "      <td>0</td>\n",
              "      <td>29.000000</td>\n",
              "      <td>211.3375</td>\n",
              "      <td>29.000000</td>\n",
              "      <td>211.3375</td>\n",
              "    </tr>\n",
              "    <tr>\n",
              "      <th>1</th>\n",
              "      <td>0</td>\n",
              "      <td>1</td>\n",
              "      <td>0</td>\n",
              "      <td>0</td>\n",
              "      <td>1</td>\n",
              "      <td>1</td>\n",
              "      <td>0</td>\n",
              "      <td>0</td>\n",
              "      <td>0.920000</td>\n",
              "      <td>151.5500</td>\n",
              "      <td>0.920000</td>\n",
              "      <td>151.5500</td>\n",
              "    </tr>\n",
              "    <tr>\n",
              "      <th>2</th>\n",
              "      <td>1</td>\n",
              "      <td>0</td>\n",
              "      <td>0</td>\n",
              "      <td>0</td>\n",
              "      <td>1</td>\n",
              "      <td>1</td>\n",
              "      <td>0</td>\n",
              "      <td>0</td>\n",
              "      <td>2.000000</td>\n",
              "      <td>151.5500</td>\n",
              "      <td>2.000000</td>\n",
              "      <td>151.5500</td>\n",
              "    </tr>\n",
              "    <tr>\n",
              "      <th>3</th>\n",
              "      <td>0</td>\n",
              "      <td>1</td>\n",
              "      <td>0</td>\n",
              "      <td>0</td>\n",
              "      <td>1</td>\n",
              "      <td>1</td>\n",
              "      <td>0</td>\n",
              "      <td>0</td>\n",
              "      <td>30.000000</td>\n",
              "      <td>151.5500</td>\n",
              "      <td>30.000000</td>\n",
              "      <td>151.5500</td>\n",
              "    </tr>\n",
              "    <tr>\n",
              "      <th>4</th>\n",
              "      <td>1</td>\n",
              "      <td>0</td>\n",
              "      <td>0</td>\n",
              "      <td>0</td>\n",
              "      <td>1</td>\n",
              "      <td>1</td>\n",
              "      <td>0</td>\n",
              "      <td>0</td>\n",
              "      <td>25.000000</td>\n",
              "      <td>151.5500</td>\n",
              "      <td>25.000000</td>\n",
              "      <td>151.5500</td>\n",
              "    </tr>\n",
              "    <tr>\n",
              "      <th>...</th>\n",
              "      <td>...</td>\n",
              "      <td>...</td>\n",
              "      <td>...</td>\n",
              "      <td>...</td>\n",
              "      <td>...</td>\n",
              "      <td>...</td>\n",
              "      <td>...</td>\n",
              "      <td>...</td>\n",
              "      <td>...</td>\n",
              "      <td>...</td>\n",
              "      <td>...</td>\n",
              "      <td>...</td>\n",
              "    </tr>\n",
              "    <tr>\n",
              "      <th>1304</th>\n",
              "      <td>1</td>\n",
              "      <td>0</td>\n",
              "      <td>1</td>\n",
              "      <td>0</td>\n",
              "      <td>0</td>\n",
              "      <td>0</td>\n",
              "      <td>0</td>\n",
              "      <td>1</td>\n",
              "      <td>14.500000</td>\n",
              "      <td>14.4542</td>\n",
              "      <td>14.500000</td>\n",
              "      <td>14.4542</td>\n",
              "    </tr>\n",
              "    <tr>\n",
              "      <th>1305</th>\n",
              "      <td>1</td>\n",
              "      <td>0</td>\n",
              "      <td>1</td>\n",
              "      <td>0</td>\n",
              "      <td>0</td>\n",
              "      <td>0</td>\n",
              "      <td>0</td>\n",
              "      <td>1</td>\n",
              "      <td>29.881138</td>\n",
              "      <td>14.4542</td>\n",
              "      <td>29.881138</td>\n",
              "      <td>14.4542</td>\n",
              "    </tr>\n",
              "    <tr>\n",
              "      <th>1306</th>\n",
              "      <td>0</td>\n",
              "      <td>1</td>\n",
              "      <td>1</td>\n",
              "      <td>0</td>\n",
              "      <td>0</td>\n",
              "      <td>0</td>\n",
              "      <td>0</td>\n",
              "      <td>1</td>\n",
              "      <td>26.500000</td>\n",
              "      <td>7.2250</td>\n",
              "      <td>26.500000</td>\n",
              "      <td>7.2250</td>\n",
              "    </tr>\n",
              "    <tr>\n",
              "      <th>1307</th>\n",
              "      <td>0</td>\n",
              "      <td>1</td>\n",
              "      <td>1</td>\n",
              "      <td>0</td>\n",
              "      <td>0</td>\n",
              "      <td>0</td>\n",
              "      <td>0</td>\n",
              "      <td>1</td>\n",
              "      <td>27.000000</td>\n",
              "      <td>7.2250</td>\n",
              "      <td>27.000000</td>\n",
              "      <td>7.2250</td>\n",
              "    </tr>\n",
              "    <tr>\n",
              "      <th>1308</th>\n",
              "      <td>0</td>\n",
              "      <td>1</td>\n",
              "      <td>0</td>\n",
              "      <td>0</td>\n",
              "      <td>1</td>\n",
              "      <td>0</td>\n",
              "      <td>0</td>\n",
              "      <td>1</td>\n",
              "      <td>29.000000</td>\n",
              "      <td>7.8750</td>\n",
              "      <td>29.000000</td>\n",
              "      <td>7.8750</td>\n",
              "    </tr>\n",
              "  </tbody>\n",
              "</table>\n",
              "<p>1309 rows × 12 columns</p>\n",
              "</div>"
            ],
            "text/plain": [
              "      female  male  C  Q  S  1  2  3        age      fare        age      fare\n",
              "0          1     0  0  0  1  1  0  0  29.000000  211.3375  29.000000  211.3375\n",
              "1          0     1  0  0  1  1  0  0   0.920000  151.5500   0.920000  151.5500\n",
              "2          1     0  0  0  1  1  0  0   2.000000  151.5500   2.000000  151.5500\n",
              "3          0     1  0  0  1  1  0  0  30.000000  151.5500  30.000000  151.5500\n",
              "4          1     0  0  0  1  1  0  0  25.000000  151.5500  25.000000  151.5500\n",
              "...      ...   ... .. .. .. .. .. ..        ...       ...        ...       ...\n",
              "1304       1     0  1  0  0  0  0  1  14.500000   14.4542  14.500000   14.4542\n",
              "1305       1     0  1  0  0  0  0  1  29.881138   14.4542  29.881138   14.4542\n",
              "1306       0     1  1  0  0  0  0  1  26.500000    7.2250  26.500000    7.2250\n",
              "1307       0     1  1  0  0  0  0  1  27.000000    7.2250  27.000000    7.2250\n",
              "1308       0     1  0  0  1  0  0  1  29.000000    7.8750  29.000000    7.8750\n",
              "\n",
              "[1309 rows x 12 columns]"
            ]
          },
          "metadata": {
            "tags": []
          },
          "execution_count": 29
        }
      ]
    },
    {
      "cell_type": "markdown",
      "metadata": {
        "id": "SlRzKfhxkd1M",
        "colab_type": "text"
      },
      "source": [
        "###Normalization\n",
        "\n",
        "\n",
        "---\n",
        "\n",
        "\n",
        "\n",
        "1. Normalize the columns which have numerical data\n",
        "\n",
        "\n",
        "\n",
        "---\n",
        "\n"
      ]
    },
    {
      "cell_type": "code",
      "metadata": {
        "id": "jo0rXWJHWeDu",
        "colab_type": "code",
        "outputId": "7efa59e9-29bf-428d-da78-b5a12505813e",
        "colab": {
          "base_uri": "https://localhost:8080/",
          "height": 340
        }
      },
      "source": [
        "titanic_data_new.info()"
      ],
      "execution_count": 30,
      "outputs": [
        {
          "output_type": "stream",
          "text": [
            "<class 'pandas.core.frame.DataFrame'>\n",
            "RangeIndex: 1309 entries, 0 to 1308\n",
            "Data columns (total 12 columns):\n",
            " #   Column  Non-Null Count  Dtype  \n",
            "---  ------  --------------  -----  \n",
            " 0   female  1309 non-null   uint8  \n",
            " 1   male    1309 non-null   uint8  \n",
            " 2   C       1309 non-null   uint8  \n",
            " 3   Q       1309 non-null   uint8  \n",
            " 4   S       1309 non-null   uint8  \n",
            " 5   1       1309 non-null   uint8  \n",
            " 6   2       1309 non-null   uint8  \n",
            " 7   3       1309 non-null   uint8  \n",
            " 8   age     1309 non-null   float64\n",
            " 9   fare    1309 non-null   float64\n",
            " 10  age     1309 non-null   float64\n",
            " 11  fare    1309 non-null   float64\n",
            "dtypes: float64(4), uint8(8)\n",
            "memory usage: 51.3 KB\n"
          ],
          "name": "stdout"
        }
      ]
    },
    {
      "cell_type": "code",
      "metadata": {
        "id": "Y3hpu92TlM38",
        "colab_type": "code",
        "colab": {}
      },
      "source": [
        "age = (age - age.mean())/age.std()\n",
        "fare = (fare - fare.mean())/fare.std()"
      ],
      "execution_count": 0,
      "outputs": []
    },
    {
      "cell_type": "markdown",
      "metadata": {
        "id": "wB9-5x83mFAO",
        "colab_type": "text"
      },
      "source": [
        "\n",
        "\n",
        "---\n",
        "2. Drop the original age, fare columns\n",
        "3. Append the normalized columns to the titanic_data_new DataFrame.\n",
        "\n",
        "\n",
        "\n",
        "---\n",
        "\n"
      ]
    },
    {
      "cell_type": "code",
      "metadata": {
        "id": "Kb00kM0onQJy",
        "colab_type": "code",
        "outputId": "26d0a783-dfde-4cd4-abed-0c0b9e799ddf",
        "colab": {
          "base_uri": "https://localhost:8080/",
          "height": 419
        }
      },
      "source": [
        "titanic_data_new = titanic_data_new.drop(columns=['age', 'fare'])\n",
        "titanic_data_new = pd.concat([titanic_data_new,age,fare],axis=1)\n",
        "titanic_data_new"
      ],
      "execution_count": 33,
      "outputs": [
        {
          "output_type": "execute_result",
          "data": {
            "text/html": [
              "<div>\n",
              "<style scoped>\n",
              "    .dataframe tbody tr th:only-of-type {\n",
              "        vertical-align: middle;\n",
              "    }\n",
              "\n",
              "    .dataframe tbody tr th {\n",
              "        vertical-align: top;\n",
              "    }\n",
              "\n",
              "    .dataframe thead th {\n",
              "        text-align: right;\n",
              "    }\n",
              "</style>\n",
              "<table border=\"1\" class=\"dataframe\">\n",
              "  <thead>\n",
              "    <tr style=\"text-align: right;\">\n",
              "      <th></th>\n",
              "      <th>female</th>\n",
              "      <th>male</th>\n",
              "      <th>C</th>\n",
              "      <th>Q</th>\n",
              "      <th>S</th>\n",
              "      <th>1</th>\n",
              "      <th>2</th>\n",
              "      <th>3</th>\n",
              "      <th>age</th>\n",
              "      <th>fare</th>\n",
              "    </tr>\n",
              "  </thead>\n",
              "  <tbody>\n",
              "    <tr>\n",
              "      <th>0</th>\n",
              "      <td>1</td>\n",
              "      <td>0</td>\n",
              "      <td>0</td>\n",
              "      <td>0</td>\n",
              "      <td>1</td>\n",
              "      <td>1</td>\n",
              "      <td>0</td>\n",
              "      <td>0</td>\n",
              "      <td>-6.839435e-02</td>\n",
              "      <td>3.441165</td>\n",
              "    </tr>\n",
              "    <tr>\n",
              "      <th>1</th>\n",
              "      <td>0</td>\n",
              "      <td>1</td>\n",
              "      <td>0</td>\n",
              "      <td>0</td>\n",
              "      <td>1</td>\n",
              "      <td>1</td>\n",
              "      <td>0</td>\n",
              "      <td>0</td>\n",
              "      <td>-2.247978e+00</td>\n",
              "      <td>2.285603</td>\n",
              "    </tr>\n",
              "    <tr>\n",
              "      <th>2</th>\n",
              "      <td>1</td>\n",
              "      <td>0</td>\n",
              "      <td>0</td>\n",
              "      <td>0</td>\n",
              "      <td>1</td>\n",
              "      <td>1</td>\n",
              "      <td>0</td>\n",
              "      <td>0</td>\n",
              "      <td>-2.164148e+00</td>\n",
              "      <td>2.285603</td>\n",
              "    </tr>\n",
              "    <tr>\n",
              "      <th>3</th>\n",
              "      <td>0</td>\n",
              "      <td>1</td>\n",
              "      <td>0</td>\n",
              "      <td>0</td>\n",
              "      <td>1</td>\n",
              "      <td>1</td>\n",
              "      <td>0</td>\n",
              "      <td>0</td>\n",
              "      <td>9.226155e-03</td>\n",
              "      <td>2.285603</td>\n",
              "    </tr>\n",
              "    <tr>\n",
              "      <th>4</th>\n",
              "      <td>1</td>\n",
              "      <td>0</td>\n",
              "      <td>0</td>\n",
              "      <td>0</td>\n",
              "      <td>1</td>\n",
              "      <td>1</td>\n",
              "      <td>0</td>\n",
              "      <td>0</td>\n",
              "      <td>-3.788764e-01</td>\n",
              "      <td>2.285603</td>\n",
              "    </tr>\n",
              "    <tr>\n",
              "      <th>...</th>\n",
              "      <td>...</td>\n",
              "      <td>...</td>\n",
              "      <td>...</td>\n",
              "      <td>...</td>\n",
              "      <td>...</td>\n",
              "      <td>...</td>\n",
              "      <td>...</td>\n",
              "      <td>...</td>\n",
              "      <td>...</td>\n",
              "      <td>...</td>\n",
              "    </tr>\n",
              "    <tr>\n",
              "      <th>1304</th>\n",
              "      <td>1</td>\n",
              "      <td>0</td>\n",
              "      <td>1</td>\n",
              "      <td>0</td>\n",
              "      <td>0</td>\n",
              "      <td>0</td>\n",
              "      <td>0</td>\n",
              "      <td>1</td>\n",
              "      <td>-1.193892e+00</td>\n",
              "      <td>-0.364161</td>\n",
              "    </tr>\n",
              "    <tr>\n",
              "      <th>1305</th>\n",
              "      <td>1</td>\n",
              "      <td>0</td>\n",
              "      <td>1</td>\n",
              "      <td>0</td>\n",
              "      <td>0</td>\n",
              "      <td>0</td>\n",
              "      <td>0</td>\n",
              "      <td>1</td>\n",
              "      <td>2.481871e-15</td>\n",
              "      <td>-0.364161</td>\n",
              "    </tr>\n",
              "    <tr>\n",
              "      <th>1306</th>\n",
              "      <td>0</td>\n",
              "      <td>1</td>\n",
              "      <td>1</td>\n",
              "      <td>0</td>\n",
              "      <td>0</td>\n",
              "      <td>0</td>\n",
              "      <td>0</td>\n",
              "      <td>1</td>\n",
              "      <td>-2.624456e-01</td>\n",
              "      <td>-0.503886</td>\n",
              "    </tr>\n",
              "    <tr>\n",
              "      <th>1307</th>\n",
              "      <td>0</td>\n",
              "      <td>1</td>\n",
              "      <td>1</td>\n",
              "      <td>0</td>\n",
              "      <td>0</td>\n",
              "      <td>0</td>\n",
              "      <td>0</td>\n",
              "      <td>1</td>\n",
              "      <td>-2.236354e-01</td>\n",
              "      <td>-0.503886</td>\n",
              "    </tr>\n",
              "    <tr>\n",
              "      <th>1308</th>\n",
              "      <td>0</td>\n",
              "      <td>1</td>\n",
              "      <td>0</td>\n",
              "      <td>0</td>\n",
              "      <td>1</td>\n",
              "      <td>0</td>\n",
              "      <td>0</td>\n",
              "      <td>1</td>\n",
              "      <td>-6.839435e-02</td>\n",
              "      <td>-0.491323</td>\n",
              "    </tr>\n",
              "  </tbody>\n",
              "</table>\n",
              "<p>1309 rows × 10 columns</p>\n",
              "</div>"
            ],
            "text/plain": [
              "      female  male  C  Q  S  1  2  3           age      fare\n",
              "0          1     0  0  0  1  1  0  0 -6.839435e-02  3.441165\n",
              "1          0     1  0  0  1  1  0  0 -2.247978e+00  2.285603\n",
              "2          1     0  0  0  1  1  0  0 -2.164148e+00  2.285603\n",
              "3          0     1  0  0  1  1  0  0  9.226155e-03  2.285603\n",
              "4          1     0  0  0  1  1  0  0 -3.788764e-01  2.285603\n",
              "...      ...   ... .. .. .. .. .. ..           ...       ...\n",
              "1304       1     0  1  0  0  0  0  1 -1.193892e+00 -0.364161\n",
              "1305       1     0  1  0  0  0  0  1  2.481871e-15 -0.364161\n",
              "1306       0     1  1  0  0  0  0  1 -2.624456e-01 -0.503886\n",
              "1307       0     1  1  0  0  0  0  1 -2.236354e-01 -0.503886\n",
              "1308       0     1  0  0  1  0  0  1 -6.839435e-02 -0.491323\n",
              "\n",
              "[1309 rows x 10 columns]"
            ]
          },
          "metadata": {
            "tags": []
          },
          "execution_count": 33
        }
      ]
    },
    {
      "cell_type": "markdown",
      "metadata": {
        "id": "uLxN3PozntKe",
        "colab_type": "text"
      },
      "source": [
        "###Plotting\n",
        "1. plot the age against the ID(continuous)\n",
        "2. plot the fare against the ID(scatter)"
      ]
    },
    {
      "cell_type": "code",
      "metadata": {
        "id": "qOXm235ETpPX",
        "colab_type": "code",
        "colab": {}
      },
      "source": [
        "import matplotlib.pyplot as plt"
      ],
      "execution_count": 0,
      "outputs": []
    },
    {
      "cell_type": "code",
      "metadata": {
        "id": "98G_Ds38D5DR",
        "colab_type": "code",
        "colab": {
          "base_uri": "https://localhost:8080/",
          "height": 34
        },
        "outputId": "4ca462f1-f478-4097-ca40-7bf25c65bda7"
      },
      "source": [
        "titanic_data_new ['index'] = titanic_data_new.index\n",
        "titanic_data_new.columns"
      ],
      "execution_count": 35,
      "outputs": [
        {
          "output_type": "execute_result",
          "data": {
            "text/plain": [
              "Index(['female', 'male', 'C', 'Q', 'S', 1, 2, 3, 'age', 'fare', 'index'], dtype='object')"
            ]
          },
          "metadata": {
            "tags": []
          },
          "execution_count": 35
        }
      ]
    },
    {
      "cell_type": "code",
      "metadata": {
        "id": "-uOMBIL7T8ar",
        "colab_type": "code",
        "outputId": "bffe1758-b57a-40df-8a89-016e8cbd2ef2",
        "colab": {
          "base_uri": "https://localhost:8080/",
          "height": 323
        }
      },
      "source": [
        "titanic_data_new.info()"
      ],
      "execution_count": 36,
      "outputs": [
        {
          "output_type": "stream",
          "text": [
            "<class 'pandas.core.frame.DataFrame'>\n",
            "RangeIndex: 1309 entries, 0 to 1308\n",
            "Data columns (total 11 columns):\n",
            " #   Column  Non-Null Count  Dtype  \n",
            "---  ------  --------------  -----  \n",
            " 0   female  1309 non-null   uint8  \n",
            " 1   male    1309 non-null   uint8  \n",
            " 2   C       1309 non-null   uint8  \n",
            " 3   Q       1309 non-null   uint8  \n",
            " 4   S       1309 non-null   uint8  \n",
            " 5   1       1309 non-null   uint8  \n",
            " 6   2       1309 non-null   uint8  \n",
            " 7   3       1309 non-null   uint8  \n",
            " 8   age     1309 non-null   float64\n",
            " 9   fare    1309 non-null   float64\n",
            " 10  index   1309 non-null   int64  \n",
            "dtypes: float64(2), int64(1), uint8(8)\n",
            "memory usage: 41.0 KB\n"
          ],
          "name": "stdout"
        }
      ]
    },
    {
      "cell_type": "code",
      "metadata": {
        "id": "LdSfNEKYn_RO",
        "colab_type": "code",
        "outputId": "388ce721-de79-4580-8108-2bbbfda65691",
        "colab": {
          "base_uri": "https://localhost:8080/",
          "height": 558
        }
      },
      "source": [
        "titanic_data_new.plot(kind = 'line', x='index', y='age')\n",
        "titanic_data_new.plot(kind = 'scatter', x='index', y='fare')"
      ],
      "execution_count": 39,
      "outputs": [
        {
          "output_type": "execute_result",
          "data": {
            "text/plain": [
              "<matplotlib.axes._subplots.AxesSubplot at 0x7f2f4677a4a8>"
            ]
          },
          "metadata": {
            "tags": []
          },
          "execution_count": 39
        },
        {
          "output_type": "display_data",
          "data": {
            "image/png": "[encoded data removed]",
            "text/plain": [
              "<Figure size 432x288 with 1 Axes>"
            ]
          },
          "metadata": {
            "tags": [],
            "needs_background": "light"
          }
        },
        {
          "output_type": "display_data",
          "data": {
            "image/png": "[encoded data removed]",
            "text/plain": [
              "<Figure size 432x288 with 1 Axes>"
            ]
          },
          "metadata": {
            "tags": [],
            "needs_background": "light"
          }
        }
      ]
    },
    {
      "cell_type": "markdown",
      "metadata": {
        "id": "LQr7y6eevTvy",
        "colab_type": "text"
      },
      "source": [
        "## End of Part - 2\n",
        "---"
      ]
    },
    {
      "cell_type": "markdown",
      "metadata": {
        "id": "TWhZcKvfvW2B",
        "colab_type": "text"
      },
      "source": [
        "## Part - 3\n",
        "---"
      ]
    },
    {
      "cell_type": "markdown",
      "metadata": {
        "id": "8bY4H9DszQ2S",
        "colab_type": "text"
      },
      "source": [
        "In this part, you will work with the library ```matplotlib```. Import the ```pyplot``` from ```matplotlib``` with an alias name ```plt```."
      ]
    },
    {
      "cell_type": "code",
      "metadata": {
        "id": "hPN6qctRzknT",
        "colab_type": "code",
        "colab": {}
      },
      "source": [
        "from matplotlib import pyplot as plt"
      ],
      "execution_count": 0,
      "outputs": []
    },
    {
      "cell_type": "markdown",
      "metadata": {
        "id": "fQ6KX_Aezlub",
        "colab_type": "text"
      },
      "source": [
        "Plot the sine function with domain in $[-3\\pi,3\\pi]$. Label the axes appropriately. Add title $\\sin(x)$. Use latex formatting while adding the title. Set the plot size to (10,10)"
      ]
    },
    {
      "cell_type": "code",
      "metadata": {
        "id": "0tA3J5mA1cQ0",
        "colab_type": "code",
        "outputId": "edd6056a-ddf9-4e02-8bad-681e8ec7cd59",
        "colab": {
          "base_uri": "https://localhost:8080/",
          "height": 297
        }
      },
      "source": [
        "x = np.linspace(-3.*np.pi,3*np.pi)\n",
        "plt.plot(np.sin(x))\n",
        "plt.xlabel(\"x\")\n",
        "plt.ylabel(\"y\")\n",
        "plt.title(r'$y=\\sin(x)$')\n",
        "plt.show()"
      ],
      "execution_count": 42,
      "outputs": [
        {
          "output_type": "display_data",
          "data": {
            "image/png": "[encoded data removed]",
            "text/plain": [
              "<Figure size 432x288 with 1 Axes>"
            ]
          },
          "metadata": {
            "tags": [],
            "needs_background": "light"
          }
        }
      ]
    },
    {
      "cell_type": "markdown",
      "metadata": {
        "id": "6KV7RqMm1d8P",
        "colab_type": "text"
      },
      "source": [
        "Plot $\\sin(x)$ and its spectrum, $\\cos(x)$ and its spectrum in a single plot, in the domain $[-2\\pi,2\\pi]$. Label the plot appropriately."
      ]
    },
    {
      "cell_type": "code",
      "metadata": {
        "id": "-OJuY0HO12Oo",
        "colab_type": "code",
        "outputId": "f577fdaf-e8db-4b58-c710-0f658440e278",
        "colab": {
          "base_uri": "https://localhost:8080/",
          "height": 1000
        }
      },
      "source": [
        "X = np.linspace(-2*np.pi,2*np.pi)\n",
        "sin = np.sin(x)\n",
        "cos = np.cos(x)\n",
        "\n",
        "Sin = np.fft.fft(sin)\n",
        "Cos = np.fft.fft(cos)\n",
        "freq = np.fft.fftfreq(X.shape[-1])\n",
        "\n",
        "plt.figure(1,figsize=(10,10))\n",
        "plt.subplot(1,2,1)\n",
        "plt.plot(X,sin)\n",
        "plt.title(r'$\\sin(x)$')\n",
        "plt.xlabel('x')\n",
        "plt.subplot(1,2,2)\n",
        "plt.plot(freq,Sin)\n",
        "plt.title('Fourier Transform')\n",
        "plt.xlabel('freq')\n",
        "plt.show()\n",
        "plt.figure(2,figsize=(10,10))\n",
        "plt.subplot(1,2,1)\n",
        "plt.plot(X,cos)\n",
        "plt.title(r'$\\cos(x)$')\n",
        "plt.xlabel('x')\n",
        "plt.subplot(1,2,2)\n",
        "plt.plot(freq,Cos)\n",
        "plt.title('Fourier Transform')\n",
        "plt.xlabel('freq')\n",
        "plt.show()"
      ],
      "execution_count": 43,
      "outputs": [
        {
          "output_type": "stream",
          "text": [
            "/usr/local/lib/python3.6/dist-packages/numpy/core/_asarray.py:85: ComplexWarning: Casting complex values to real discards the imaginary part\n",
            "  return array(a, dtype, copy=False, order=order)\n"
          ],
          "name": "stderr"
        },
        {
          "output_type": "display_data",
          "data": {
            "image/png": "[encoded data removed]",
            "text/plain": [
              "<Figure size 720x720 with 2 Axes>"
            ]
          },
          "metadata": {
            "tags": [],
            "needs_background": "light"
          }
        },
        {
          "output_type": "stream",
          "text": [
            "/usr/local/lib/python3.6/dist-packages/numpy/core/_asarray.py:85: ComplexWarning: Casting complex values to real discards the imaginary part\n",
            "  return array(a, dtype, copy=False, order=order)\n"
          ],
          "name": "stderr"
        },
        {
          "output_type": "display_data",
          "data": {
            "image/png": "[encoded data removed]",
            "text/plain": [
              "<Figure size 720x720 with 2 Axes>"
            ]
          },
          "metadata": {
            "tags": [],
            "needs_background": "light"
          }
        }
      ]
    },
    {
      "cell_type": "markdown",
      "metadata": {
        "id": "1S6ZRm6B18ZF",
        "colab_type": "text"
      },
      "source": [
        "## End of Part - 3\n",
        "---"
      ]
    },
    {
      "cell_type": "markdown",
      "metadata": {
        "id": "MUucpzXBl096",
        "colab_type": "text"
      },
      "source": [
        "Create a Github repository with the name ***SHALA2020*** and save this assignment there."
      ]
    }
  ]
}